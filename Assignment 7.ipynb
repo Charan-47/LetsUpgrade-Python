{
 "cells": [
  {
   "cell_type": "markdown",
   "metadata": {},
   "source": [
    "# Question 1"
   ]
  },
  {
   "cell_type": "code",
   "execution_count": 4,
   "metadata": {},
   "outputs": [
    {
     "name": "stdout",
     "output_type": "stream",
     "text": [
      "{'ftp': 21, 'ssh': 22, 'tth': 23, 'hhtp': 20}\n"
     ]
    }
   ],
   "source": [
    "dict1 = {21:\"ftp\",22:\"ssh\",23:\"tth\",20:\"hhtp\"}\n",
    "dict2 = {dict1[x]:x for x in dict1}\n",
    "print(dict2)"
   ]
  },
  {
   "cell_type": "markdown",
   "metadata": {},
   "source": [
    "# Question 2"
   ]
  },
  {
   "cell_type": "code",
   "execution_count": 14,
   "metadata": {},
   "outputs": [
    {
     "name": "stdout",
     "output_type": "stream",
     "text": [
      "[8, 15, 33, 42]\n"
     ]
    }
   ],
   "source": [
    "a = [(1,2,5),(3,4),(5,6,7),(4,5)]\n",
    "b = []\n",
    "Sum = 0\n",
    "for i in range(len(a)):\n",
    "    for j in range(len(a[i])):\n",
    "        Sum+=a[i][j]\n",
    "    b.append(Sum)\n",
    "print(b)     "
   ]
  },
  {
   "cell_type": "markdown",
   "metadata": {},
   "source": [
    "# Question 3"
   ]
  },
  {
   "cell_type": "code",
   "execution_count": 20,
   "metadata": {},
   "outputs": [
    {
     "name": "stdout",
     "output_type": "stream",
     "text": [
      "[1, 2, 5, 3, 4, 5, 6, 7, 4, 5]\n"
     ]
    }
   ],
   "source": [
    "a = [(1,2,5),[3,4],(5,6,7),[4,5]]\n",
    "b = []\n",
    "for i in range(len(a)):\n",
    "    for j in range(len(a[i])):\n",
    "        b.append(a[i][j])\n",
    "print(b)"
   ]
  },
  {
   "cell_type": "code",
   "execution_count": null,
   "metadata": {},
   "outputs": [],
   "source": []
  }
 ],
 "metadata": {
  "kernelspec": {
   "display_name": "Python 3",
   "language": "python",
   "name": "python3"
  },
  "language_info": {
   "codemirror_mode": {
    "name": "ipython",
    "version": 3
   },
   "file_extension": ".py",
   "mimetype": "text/x-python",
   "name": "python",
   "nbconvert_exporter": "python",
   "pygments_lexer": "ipython3",
   "version": "3.8.2"
  }
 },
 "nbformat": 4,
 "nbformat_minor": 4
}
