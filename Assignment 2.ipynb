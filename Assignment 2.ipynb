{
 "cells": [
  {
   "cell_type": "markdown",
   "metadata": {
    "colab_type": "text",
    "id": "1119rSKX9KAq"
   },
   "source": [
    "**BASIC PYTHON**"
   ]
  },
  {
   "cell_type": "markdown",
   "metadata": {
    "colab_type": "text",
    "id": "QiPK7ToH9dzt"
   },
   "source": [
    "\n",
    "\n",
    "1.   BACK SLASH\n",
    "2.   TRIPLE QUOTES\n",
    "\n",
    "1.   STRING INSIDE THE QUOTES\n",
    "2.   ESCAPE SEQUENCE OF STRING\n",
    "\n",
    "5.   FORMATTED OUTPUT\n",
    "\n",
    "\n",
    "\n",
    "\n",
    "\n",
    "\n"
   ]
  },
  {
   "cell_type": "markdown",
   "metadata": {
    "colab_type": "text",
    "id": "U_0KPxDn_R6c"
   },
   "source": [
    "**BACK SLASH**"
   ]
  },
  {
   "cell_type": "code",
   "execution_count": 1,
   "metadata": {
    "colab": {
     "base_uri": "https://localhost:8080/",
     "height": 68
    },
    "colab_type": "code",
    "id": "31u3bjl49OxL",
    "outputId": "d827aaf0-f813-4d40-dfc7-b0c869e75925"
   },
   "outputs": [
    {
     "name": "stdout",
     "output_type": "stream",
     "text": [
      "HELLO WORLD\n",
      "\n",
      "HELLO WORLD\n"
     ]
    }
   ],
   "source": [
    "print(\"HELLO WORLD\")\n",
    "print()\n",
    "print(\"HELLO \\\n",
    "WORLD\")"
   ]
  },
  {
   "cell_type": "markdown",
   "metadata": {
    "colab_type": "text",
    "id": "PoexWMNh_YX7"
   },
   "source": [
    "**TRIPLE QUOTES**"
   ]
  },
  {
   "cell_type": "code",
   "execution_count": 2,
   "metadata": {
    "colab": {
     "base_uri": "https://localhost:8080/",
     "height": 68
    },
    "colab_type": "code",
    "id": "jw0-8mGN-BUT",
    "outputId": "d03db5b9-5ca9-4f30-ac65-bad7e2fa8822"
   },
   "outputs": [
    {
     "name": "stdout",
     "output_type": "stream",
     "text": [
      " (\\_/)\n",
      " (•x•)                                                           \n",
      " (<🍦)\n"
     ]
    }
   ],
   "source": [
    "print(\"\"\" (\\_/)\n",
    " (•x•)                                                           \n",
    " (<🍦)\"\"\")\n",
    "#TO PRINT MULTIPLE LINES TRIPLE QUOTE IS USED , IT IS USED AS COMMENTS SOME TIMES AND SQL STATEMENTS              "
   ]
  },
  {
   "cell_type": "markdown",
   "metadata": {
    "colab_type": "text",
    "id": "qy7vJFl4AdD9"
   },
   "source": [
    "**STRING INSIDE QUOTES**"
   ]
  },
  {
   "cell_type": "code",
   "execution_count": 3,
   "metadata": {
    "colab": {
     "base_uri": "https://localhost:8080/",
     "height": 68
    },
    "colab_type": "code",
    "id": "H0zQZLN1-7Gi",
    "outputId": "97bef577-a710-4008-d25e-3bfd117c621a"
   },
   "outputs": [
    {
     "name": "stdout",
     "output_type": "stream",
     "text": [
      "hello world\n",
      "python's world\n",
      "python's world\n"
     ]
    }
   ],
   "source": [
    "print(\"hello world\")\n",
    "print(\"python's world\")\n",
    "print(\"python\\'s world\")"
   ]
  },
  {
   "cell_type": "markdown",
   "metadata": {
    "colab_type": "text",
    "id": "lKCcv149BoNt"
   },
   "source": [
    "**ESCAPE SEQUENCES IN STRING**"
   ]
  },
  {
   "cell_type": "code",
   "execution_count": 4,
   "metadata": {
    "colab": {
     "base_uri": "https://localhost:8080/",
     "height": 153
    },
    "colab_type": "code",
    "id": "qCnJ0Gu8_1A-",
    "outputId": "ad295840-3372-428f-edd2-57e4b83ff3dc"
   },
   "outputs": [
    {
     "name": "stdout",
     "output_type": "stream",
     "text": [
      "hello\n",
      "world\n",
      "\n",
      "\n",
      "hello\tworld\n",
      "\n",
      "\n",
      "hello\u0007\n"
     ]
    }
   ],
   "source": [
    "print(\"hello\\nworld\")\n",
    "print(\"\\n\")\n",
    "print(\"hello\\tworld\")   #\\ is also used for tab\n",
    "print(\"\\n\")\n",
    "print(\"hello\\a\") #\\a means alarm sound"
   ]
  },
  {
   "cell_type": "markdown",
   "metadata": {
    "colab_type": "text",
    "id": "6e6lWkKqC8Ep"
   },
   "source": [
    "**FORMATTED OUTPUT**"
   ]
  },
  {
   "cell_type": "code",
   "execution_count": 5,
   "metadata": {
    "colab": {
     "base_uri": "https://localhost:8080/",
     "height": 68
    },
    "colab_type": "code",
    "id": "BMmxxrvpB4Gk",
    "outputId": "acb5b2cf-a6aa-41ab-c058-96fec141afea"
   },
   "outputs": [
    {
     "name": "stdout",
     "output_type": "stream",
     "text": [
      "The name of the student is :  charan  The marks os student is :  90.897  The age of the student is :  89\n",
      "The name of the student is :     charan The marks if the student is :      90.90 The age of the student is :         89\n",
      "The name of the student is : charan The marks os student is 90.897 The age of the student is : 89\n"
     ]
    }
   ],
   "source": [
    "name = \"charan\"\n",
    "marks = 90.897\n",
    "age = 89\n",
    "#method 1\n",
    "print(\"The name of the student is : \" ,name,\" The marks os student is : \",marks,\" The age of the student is : \",age)\n",
    "#method 2\n",
    "print(\"The name of the student is : %10s The marks if the student is : %10.2f The age of the student is : %10d\"%(name,marks,age))\n",
    "#method 3\n",
    "print(f\"The name of the student is : {name} The marks os student is {marks} The age of the student is : {age}\")"
   ]
  },
  {
   "cell_type": "markdown",
   "metadata": {
    "colab_type": "text",
    "id": "HnKfpXxJFrYp"
   },
   "source": [
    "**VARIABLES**\n",
    "\n",
    "*variables are temporary storage locations of data*\n",
    "\n",
    "**NAMING RULES**\n",
    "\n",
    "\n",
    "1.   *variables cannot start with a number*\n",
    "2.   *it can start with a underscore*\n",
    "\n",
    "1.   *it can have numbers after start but cant begin in numbers* \n",
    "2.   *variables cant be reserved keywords*\n",
    "\n",
    "1.   *variables need to be meaning full*\n",
    "\n",
    "\n",
    "\n",
    "\n",
    "\n"
   ]
  },
  {
   "cell_type": "code",
   "execution_count": 6,
   "metadata": {
    "colab": {
     "base_uri": "https://localhost:8080/",
     "height": 102
    },
    "colab_type": "code",
    "id": "D34a_Vu0D5WP",
    "outputId": "8310d627-53ba-498f-fbe9-734e9df4ca36"
   },
   "outputs": [
    {
     "name": "stdout",
     "output_type": "stream",
     "text": [
      "1915484384\n",
      "1915484384\n",
      "10\n",
      "30\n",
      "40 40\n"
     ]
    }
   ],
   "source": [
    "x = 20\n",
    "y = 20\n",
    "print(id(x))          # both are different variables but value is stored in same memory location\n",
    "print(id(y))\n",
    "if1 = 10\n",
    "print(if1)\n",
    "_10 = 30\n",
    "print(_10)\n",
    "A = B = 40\n",
    "print(A,B)\n",
    "del if1           # after deleting if1 is not avialable"
   ]
  },
  {
   "cell_type": "markdown",
   "metadata": {
    "colab_type": "text",
    "id": "z_9nr34SIvMk"
   },
   "source": [
    "**TYPES OF OPERATORS**\n",
    "\n",
    "1.   ARITHMETIC OPERATORS  (**, *, /, %, +, -, //)\n",
    "\n",
    "1.   COMPARISON OPERSTORS  (==, <, >, <=, >=, !=)\n",
    "2.   ASSIGNMENT OPERATORS  (=, +=, -=, *=, /=, **=)\n",
    "\n",
    "4.   BITWISE OPERATORS  ( | , & , ~ , << , >> )\n",
    "\n",
    "5.  LOGICAL OPERATORS   (AND, OR , NOT)\n",
    "\n",
    "6.   MEMBERSHIP OPERATORS\n",
    "2.   IDENTITY OPERATORS\n",
    "\n",
    "\n",
    "\n"
   ]
  },
  {
   "cell_type": "markdown",
   "metadata": {
    "colab_type": "text",
    "id": "omUqdvMcSnb0"
   },
   "source": [
    "**ARITHMETIC OPERATOR**"
   ]
  },
  {
   "cell_type": "code",
   "execution_count": 7,
   "metadata": {
    "colab": {
     "base_uri": "https://localhost:8080/",
     "height": 136
    },
    "colab_type": "code",
    "id": "GlCrPND9HQNt",
    "outputId": "a4ffd8df-182d-44bd-8691-115fd3ecd8eb"
   },
   "outputs": [
    {
     "name": "stdout",
     "output_type": "stream",
     "text": [
      "2.0\n",
      "3125\n",
      "10\n",
      "30\n",
      "1\n",
      "3\n",
      "30\n"
     ]
    }
   ],
   "source": [
    "print(4/2)   #INT/INT GIVES FLOAT VALUE\n",
    "print(5**5)\n",
    "print(20-10)\n",
    "print(10+20)\n",
    "print(10%3)\n",
    "print(10//3)\n",
    "print(10*3)"
   ]
  },
  {
   "cell_type": "markdown",
   "metadata": {
    "colab_type": "text",
    "id": "4oqfxRKFSs5p"
   },
   "source": [
    "**COMPARISON OPERATOR**"
   ]
  },
  {
   "cell_type": "code",
   "execution_count": 8,
   "metadata": {
    "colab": {
     "base_uri": "https://localhost:8080/",
     "height": 119
    },
    "colab_type": "code",
    "id": "5X_E6XUiRm2f",
    "outputId": "3518d251-5a42-4604-d115-aefa7462ce53"
   },
   "outputs": [
    {
     "name": "stdout",
     "output_type": "stream",
     "text": [
      "False\n",
      "False\n",
      "True\n",
      "True\n",
      "False\n",
      "True\n"
     ]
    }
   ],
   "source": [
    "a = 10\n",
    "b = 20\n",
    "print(a == b)\n",
    "print(a>b)\n",
    "print(b>a)\n",
    "print(a!=b)\n",
    "print(a>=b)\n",
    "print(a<=b)"
   ]
  },
  {
   "cell_type": "markdown",
   "metadata": {
    "colab_type": "text",
    "id": "N0KqEi91UA1s"
   },
   "source": [
    "**ASSIGNMENT OPERATOR**"
   ]
  },
  {
   "cell_type": "code",
   "execution_count": 9,
   "metadata": {
    "colab": {
     "base_uri": "https://localhost:8080/",
     "height": 102
    },
    "colab_type": "code",
    "id": "HFn7RoQfTcXQ",
    "outputId": "81681c8b-22e3-4348-deaf-d2fa7f08d99b"
   },
   "outputs": [
    {
     "name": "stdout",
     "output_type": "stream",
     "text": [
      "40\n",
      "20\n",
      "400\n",
      "20.0\n",
      "1.048576e+26\n"
     ]
    }
   ],
   "source": [
    "a = 10\n",
    "b = 20\n",
    "a = b\n",
    "a+=b\n",
    "print(a)\n",
    "a-=b\n",
    "print(a)\n",
    "a*=b\n",
    "print(a)\n",
    "a/=b\n",
    "print(a)\n",
    "a**=b\n",
    "print(a)"
   ]
  },
  {
   "cell_type": "markdown",
   "metadata": {
    "colab_type": "text",
    "id": "eD1Eo05iWRva"
   },
   "source": [
    "**BITWISE OPERATOR**"
   ]
  },
  {
   "cell_type": "code",
   "execution_count": 10,
   "metadata": {
    "colab": {},
    "colab_type": "code",
    "id": "CtqYpPS9UuNv"
   },
   "outputs": [
    {
     "name": "stdout",
     "output_type": "stream",
     "text": [
      "0b11110000\n",
      "0o360\n",
      "0xf0\n",
      "241\n",
      "0\n",
      "241\n",
      "480\n",
      "120\n"
     ]
    }
   ],
   "source": [
    "a = 240\n",
    "b = 1\n",
    "print(bin(a))\n",
    "print(oct(a))            #11110000 = 240    11110000         11110000 = 240 \n",
    "print(hex(a))            #00000001 = 1      00000001         00000001 = 1 \n",
    "                         # or operation     and operation    xor operation\n",
    "print(a|b)               #11110001 = 241    00000000 = 0     11110001 = 241\n",
    "print(a&b)\n",
    "print(a^b)\n",
    "print(a<<b) #left shift means multiply by 2 power b\n",
    "print(a>>b) # right shift means divide by 2 power b\n"
   ]
  },
  {
   "cell_type": "markdown",
   "metadata": {},
   "source": [
    "**LOGICAL OPERATOR**"
   ]
  },
  {
   "cell_type": "code",
   "execution_count": 16,
   "metadata": {},
   "outputs": [
    {
     "name": "stdout",
     "output_type": "stream",
     "text": [
      "True\n",
      "False\n",
      "False\n",
      "True\n",
      "False\n"
     ]
    }
   ],
   "source": [
    "a = 10\n",
    "b = 20\n",
    "print(a == b or b!=0)\n",
    "print(a == b and b!=0)\n",
    "#print(10>9 and 20>M)  #error becoz 1st expression is true so checks 2nd expression which is error\n",
    "print(10<9 and 20<M)  #false becoz 1st expression is false so doesn't check 2nd expression hence false\n",
    "c = 0\n",
    "print(not c)\n",
    "print(not True)"
   ]
  },
  {
   "cell_type": "markdown",
   "metadata": {},
   "source": [
    "**MEMBERSHIP OPERATOR**"
   ]
  },
  {
   "cell_type": "code",
   "execution_count": 17,
   "metadata": {},
   "outputs": [
    {
     "data": {
      "text/plain": [
       "True"
      ]
     },
     "execution_count": 17,
     "metadata": {},
     "output_type": "execute_result"
    }
   ],
   "source": [
    "str1 = \"programming\"\n",
    "\"a\" in str1"
   ]
  },
  {
   "cell_type": "code",
   "execution_count": 19,
   "metadata": {},
   "outputs": [
    {
     "data": {
      "text/plain": [
       "False"
      ]
     },
     "execution_count": 19,
     "metadata": {},
     "output_type": "execute_result"
    }
   ],
   "source": [
    "\"x\" not in str1"
   ]
  },
  {
   "cell_type": "code",
   "execution_count": 20,
   "metadata": {},
   "outputs": [
    {
     "data": {
      "text/plain": [
       "False"
      ]
     },
     "execution_count": 20,
     "metadata": {},
     "output_type": "execute_result"
    }
   ],
   "source": [
    "\"x\" in str1"
   ]
  },
  {
   "cell_type": "markdown",
   "metadata": {},
   "source": [
    "**IDENTITY OPERATOR**"
   ]
  },
  {
   "cell_type": "code",
   "execution_count": 31,
   "metadata": {},
   "outputs": [
    {
     "name": "stdout",
     "output_type": "stream",
     "text": [
      "True\n",
      "False\n",
      "True\n",
      "False\n"
     ]
    }
   ],
   "source": [
    "a = 10\n",
    "b = 10\n",
    "c = 257\n",
    "d = 257\n",
    "print(a is b)    #it checks the id value of variable a and b if both equal true else false,for in range of -5 to 256 this\n",
    "                        #is and is not will work and for 257 and above shows wrong results \n",
    "print(a is not b)\n",
    "print(c == d)\n",
    "print(c is d)"
   ]
  },
  {
   "cell_type": "markdown",
   "metadata": {},
   "source": [
    "**OPERATOR PRECEDENCE**"
   ]
  },
  {
   "cell_type": "markdown",
   "metadata": {},
   "source": [
    "from precedence low to high:\n",
    "\n",
    "1.assignment operator (=)\n",
    "\n",
    "2.lambda \n",
    "\n",
    "3.if - else\n",
    "\n",
    "4.or operator\n",
    "\n",
    "5.and operator\n",
    "\n",
    "6.not operator\n",
    "\n",
    "7.comparison ,identity, membership (in , not in , is , is not , > , < , >= , <=, != , ==)\n",
    "\n",
    "8.bitwise or(|)\n",
    "\n",
    "9.bitwise xor (^)\n",
    "\n",
    "10.bitwise and (&)\n",
    "\n",
    "11.shifts (>>,<<)\n",
    "\n",
    "12.add,sub (+,-)\n",
    "\n",
    "13.mul,div,etc (*,/,@,//,%)\n",
    "\n",
    "14.unary operator and bitwise not(+x,-x,~x)\n",
    "\n",
    "15.exponential\n",
    "\n",
    "16.slicing ,call,attribute\n",
    "\n",
    "17.list,tuple,set,dictinary"
   ]
  },
  {
   "cell_type": "code",
   "execution_count": null,
   "metadata": {},
   "outputs": [],
   "source": [
    "print(10>8>9)\n",
    "print(10>8 and 8>9)"
   ]
  }
 ],
 "metadata": {
  "colab": {
   "collapsed_sections": [],
   "name": "Python Essentials Day2.ipynb",
   "provenance": []
  },
  "kernelspec": {
   "display_name": "Python 3",
   "language": "python",
   "name": "python3"
  },
  "language_info": {
   "codemirror_mode": {
    "name": "ipython",
    "version": 3
   },
   "file_extension": ".py",
   "mimetype": "text/x-python",
   "name": "python",
   "nbconvert_exporter": "python",
   "pygments_lexer": "ipython3",
   "version": "3.8.2"
  }
 },
 "nbformat": 4,
 "nbformat_minor": 1
}
